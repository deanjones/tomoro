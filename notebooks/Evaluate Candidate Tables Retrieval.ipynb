{
 "cells": [
  {
   "cell_type": "markdown",
   "id": "e754fc2d-ecd2-42ed-abb9-f4bf43738ab0",
   "metadata": {},
   "source": [
    "## Overview\n",
    "\n",
    "In order to answer a user's question, we need to accurately identify which table contains the relevant information. The first stage is to identify a set of candidate tables, based on the information in the table and the question. There is a parameter 'k' which determines how many tables are returned in the candidate set. Although recall will obviously improve with higher values of k, we typically want this first stage to identify a small candidate set, as a larger candidate set will result in a more expensive, less precise subsequent call to the LLM, when we try to filter the candidate set down to a single table.\n",
    "\n",
    "## Metrics\n",
    "\n",
    "Recall@k (R@k): we need to determine the recall for different values of k (which will inform the runtime choice of a suitable value for k). \n",
    "Note that if a system parameter like the value of k is chosen using data that will also be used to test the system as a whole, this invalidates that evaluation to some extent. In reality, a different dataset should be used to select a value for k.\n",
    "\n",
    "## Conclusion\n",
    "\n",
    "The results below clearly indicate diminishing returns for values of k ~ 60 and higher. Although it's impossible to properly identify a suitable value for k without understanding the downstream implications on cost and statistical accuracy, this does set an upper bound on the value of k."
   ]
  },
  {
   "cell_type": "code",
   "execution_count": 1,
   "id": "2a068b71-73e5-49dd-af0d-73df0e85cf72",
   "metadata": {},
   "outputs": [],
   "source": [
    "import os\n",
    "import sys\n",
    "\n",
    "module_path = os.path.abspath(os.path.join('..'))\n",
    "sys.path.insert(0, module_path)"
   ]
  },
  {
   "cell_type": "code",
   "execution_count": 9,
   "id": "a80e5d50-62d1-4aaa-b7ae-d0cfc1823a8a",
   "metadata": {},
   "outputs": [
    {
     "data": {
      "text/plain": [
       "3037"
      ]
     },
     "execution_count": 9,
     "metadata": {},
     "output_type": "execute_result"
    }
   ],
   "source": [
    "# read in the records\n",
    "from tomoro.record import read_records\n",
    "\n",
    "data_path = '../data/train.json'\n",
    "all_records = read_records(data_path)\n",
    "len(all_records)"
   ]
  },
  {
   "cell_type": "code",
   "execution_count": 10,
   "id": "0f16470e-4b63-4ce1-bde1-8236ec9abfdd",
   "metadata": {},
   "outputs": [
    {
     "data": {
      "text/plain": [
       "200"
      ]
     },
     "execution_count": 10,
     "metadata": {},
     "output_type": "execute_result"
    }
   ],
   "source": [
    "import random\n",
    "\n",
    "# use a random sample of the records\n",
    "records = random.sample(all_records, 200)\n",
    "len(records)"
   ]
  },
  {
   "cell_type": "code",
   "execution_count": 11,
   "id": "54a6c757-9305-4828-9009-0514642c4759",
   "metadata": {},
   "outputs": [
    {
     "name": "stdout",
     "output_type": "stream",
     "text": [
      "252 252\n"
     ]
    }
   ],
   "source": [
    "from tomoro.utils import make_table_name\n",
    "\n",
    "# the correct answer for the required table name is derived from the record id \n",
    "questions = []\n",
    "expected_table_names = []\n",
    "\n",
    "for record in records:\n",
    "    table_name = make_table_name(record.id)\n",
    "    qs = [qa.question for qa in record.qa]\n",
    "    questions.extend(qs)\n",
    "    expected_table_names.extend([table_name] * len(qs))\n",
    "\n",
    "print(len(questions), len(expected_table_names))"
   ]
  },
  {
   "cell_type": "code",
   "execution_count": 21,
   "id": "089dbd02-b196-475e-8aac-a255a132f424",
   "metadata": {},
   "outputs": [
    {
     "name": "stderr",
     "output_type": "stream",
     "text": [
      "100%|████████████████████████████████████████████████████████████████████████████████████████████████████████████████████████████████████████████████████| 252/252 [02:04<00:00,  2.03it/s]\n"
     ]
    },
    {
     "data": {
      "text/plain": [
       "252"
      ]
     },
     "execution_count": 21,
     "metadata": {},
     "output_type": "execute_result"
    }
   ],
   "source": [
    "from tomoro.vector_store import get_store\n",
    "from tomoro.config import get_env_var\n",
    "from tqdm import tqdm \n",
    "\n",
    "# for each question, we get the results for the max value of k, and then truncate during each evaluation step \n",
    "max_k = 100\n",
    "\n",
    "store_type = get_env_var('VECTOR_STORE')\n",
    "db_path = '../.vector_db'\n",
    "collection_name = get_env_var('VECTOR_DB_COLLECTION_NAME')\n",
    "\n",
    "vector_store = get_store(store_type, db_path=db_path, collection_name=collection_name)\n",
    "results = []\n",
    "for question in tqdm(questions):\n",
    "    documents = vector_store.retrieve(question, k=max_k)\n",
    "    table_names = [d.metadata['table_name'] for d in documents]\n",
    "    results.append(table_names)\n",
    "len(results)"
   ]
  },
  {
   "cell_type": "code",
   "execution_count": 29,
   "id": "a50acd9d-70b8-4b4f-918b-b5c540458732",
   "metadata": {},
   "outputs": [],
   "source": [
    "# now evaluate recall for different values of k\n",
    "eval_results = []\n",
    "for k in range(5, max_k + 5, 5):\n",
    "    true_positives = 0\n",
    "    false_negatives = 0\n",
    "    for q_expected_name, q_results in zip(expected_table_names, results):\n",
    "        # truncate the results to k\n",
    "        k_results = set(q_results[:k])\n",
    "        if q_expected_name in k_results:\n",
    "            true_positives +=1\n",
    "        else:\n",
    "            false_negatives += 1\n",
    "    recall_at_k = round(true_positives / (true_positives + false_negatives), 4)\n",
    "    eval_results.append((k, recall_at_k, true_positives, false_negatives))\n"
   ]
  },
  {
   "cell_type": "code",
   "execution_count": 35,
   "id": "0014e656-aaa5-466a-905b-24e34093e91c",
   "metadata": {},
   "outputs": [
    {
     "data": {
      "text/plain": [
       "<matplotlib.collections.PathCollection at 0x112e62d50>"
      ]
     },
     "execution_count": 35,
     "metadata": {},
     "output_type": "execute_result"
    },
    {
     "data": {
      "image/png": "[encoded data removed]",
      "text/plain": [
       "<Figure size 640x480 with 1 Axes>"
      ]
     },
     "metadata": {},
     "output_type": "display_data"
    }
   ],
   "source": [
    "import matplotlib.pyplot as plt\n",
    "import pandas as pd\n",
    "\n",
    "df = pd.DataFrame(eval_results, columns=['k', 'recall@k', 'tp', 'fn'])\n",
    "plt.title('Recall for values of k')\n",
    "plt.xlabel('k')\n",
    "plt.ylabel('Recall@k')\n",
    "plt.scatter(x=df['k'], y=df['recall@k'])"
   ]
  }
 ],
 "metadata": {
  "kernelspec": {
   "display_name": "tomoro",
   "language": "python",
   "name": "tomoro"
  },
  "language_info": {
   "codemirror_mode": {
    "name": "ipython",
    "version": 3
   },
   "file_extension": ".py",
   "mimetype": "text/x-python",
   "name": "python",
   "nbconvert_exporter": "python",
   "pygments_lexer": "ipython3",
   "version": "3.13.2"
  }
 },
 "nbformat": 4,
 "nbformat_minor": 5
}
