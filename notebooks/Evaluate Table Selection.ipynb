{
 "cells": [
  {
   "cell_type": "markdown",
   "id": "ca807182-c4ce-4dd5-bc79-f06d59a51116",
   "metadata": {},
   "source": [
    "## Overview\n",
    "\n",
    "Once the system has selected a candidate set of tables for answering a user's question, we need to identify the most likely single table which should be selected in order the answer the user's query. This is evaluted by determining the frequency with which the correct table is selected, from a candidate set which includes the expected answer.\n",
    "\n",
    "## Metrics\n",
    "\n",
    "Here we are interested in the frequency with which the system selects the correct answer from candidate sets of different sizes, given that the candidate set contains the correct answer. As this is a simple right/wrong scenario, we just measure accuracy as the \n",
    "proportion of correct answers given. In the evaluation of the candidate table retrieval, we noted that for larger values of k, we see diminishing returns in recall, so here we cap the evaluation at k=70.\n",
    "\n",
    "## Conclusion\n",
    "\n",
    "As expected, as the size of the candidate set of tables increases, we see diminishing accuracy as there are more options to choose from. The selection of the correct table is very challenging; there are many tables which, to a human analyst, would appear relevant to a given question, so although the baseline human performance is not known, it is likely to be substantially below 100%. The results shown below are relatively poor, but the algorithm does at least perform about twice as well as random selection (~40% accuracy with 5 candidates, ~20% with 10 candidates), so there is a base signal that can be iterated and improved upon.  "
   ]
  },
  {
   "cell_type": "code",
   "execution_count": 1,
   "id": "76daa698-9690-456d-82aa-c8d4918db19e",
   "metadata": {},
   "outputs": [],
   "source": [
    "import os\n",
    "import sys\n",
    "\n",
    "module_path = os.path.abspath(os.path.join('..'))\n",
    "sys.path.insert(0, module_path)"
   ]
  },
  {
   "cell_type": "code",
   "execution_count": 2,
   "id": "23378054-4a38-4ed9-b62c-095eb92d9c0b",
   "metadata": {},
   "outputs": [
    {
     "data": {
      "text/plain": [
       "3037"
      ]
     },
     "execution_count": 2,
     "metadata": {},
     "output_type": "execute_result"
    }
   ],
   "source": [
    "# read in the records\n",
    "from tomoro.record import read_records\n",
    "\n",
    "data_path = '../data/train.json'\n",
    "all_records = read_records(data_path)\n",
    "len(all_records)"
   ]
  },
  {
   "cell_type": "code",
   "execution_count": 13,
   "id": "ed45566a-df9f-458f-9339-c3c7eace017b",
   "metadata": {},
   "outputs": [
    {
     "data": {
      "text/plain": [
       "100"
      ]
     },
     "execution_count": 13,
     "metadata": {},
     "output_type": "execute_result"
    }
   ],
   "source": [
    "import random\n",
    "\n",
    "# use a random sample of the records\n",
    "records = random.sample(all_records, 100)\n",
    "len(records)"
   ]
  },
  {
   "cell_type": "code",
   "execution_count": 14,
   "id": "5e2a9760-d7ea-48fa-8670-ee7125c16c7c",
   "metadata": {},
   "outputs": [
    {
     "name": "stdout",
     "output_type": "stream",
     "text": [
      "138 138\n"
     ]
    }
   ],
   "source": [
    "from tomoro.utils import make_table_name\n",
    "\n",
    "# the correct answer for the required table name is derived from the record id \n",
    "questions = []\n",
    "expected_table_names = []\n",
    "\n",
    "for record in records:\n",
    "    table_name = make_table_name(record.id)\n",
    "    qs = [qa.question for qa in record.qa]\n",
    "    questions.extend(qs)\n",
    "    expected_table_names.extend([table_name] * len(qs))\n",
    "\n",
    "print(len(questions), len(expected_table_names))"
   ]
  },
  {
   "cell_type": "code",
   "execution_count": 18,
   "id": "f8ae7213-03a3-4e04-a995-b9e109ec7fe9",
   "metadata": {},
   "outputs": [
    {
     "name": "stderr",
     "output_type": "stream",
     "text": [
      "100%|████████████████████████████████████████████████████████████████████████████████████████████████████████████████████████████████████████████████████| 138/138 [01:17<00:00,  1.79it/s]\n"
     ]
    },
    {
     "data": {
      "text/plain": [
       "138"
      ]
     },
     "execution_count": 18,
     "metadata": {},
     "output_type": "execute_result"
    }
   ],
   "source": [
    "from tomoro.vector_store import get_store\n",
    "from tomoro.config import get_env_var\n",
    "from tqdm import tqdm \n",
    "\n",
    "# for each question, we get the results for the max value of k, and then truncate during each evaluation step \n",
    "# for large values of k we get diminishing returns in recall, so cap evaluation at k=70\n",
    "max_k = 70\n",
    "\n",
    "store_type = get_env_var('VECTOR_STORE')\n",
    "db_path = '../.vector_db'\n",
    "collection_name = get_env_var('VECTOR_DB_COLLECTION_NAME')\n",
    "\n",
    "vector_store = get_store(store_type, db_path=db_path, collection_name=collection_name)\n",
    "results = []\n",
    "for question in tqdm(questions):\n",
    "    documents = vector_store.retrieve(question, k=max_k) \n",
    "    table_names = [d.metadata['table_name'] for d in documents]\n",
    "    results.append(table_names)\n",
    "len(results)"
   ]
  },
  {
   "cell_type": "code",
   "execution_count": null,
   "id": "de2452d8-6bb9-4c23-a118-71fd527b885e",
   "metadata": {},
   "outputs": [],
   "source": [
    "# now evaluate table selection for different values of k\n",
    "from langchain_community.utilities import SQLDatabase\n",
    "from tomoro.utils import get_llm\n",
    "from tomoro.sql import SQLGenerator\n",
    "from tomoro.retrieve import Retriever\n",
    "\n",
    "SQL_DB_NAME = get_env_var('SQL_DB_NAME')\n",
    "sqlite_uri = f'sqlite:///../{SQL_DB_NAME}'\n",
    "sql_db = SQLDatabase.from_uri(sqlite_uri)\n",
    "LLM_TYPE = get_env_var('LLM')\n",
    "llm = get_llm(LLM_TYPE)\n",
    "sql_generator = SQLGenerator(sqlite_uri, llm)\n",
    "retriever = Retriever(vector_store, llm, sql_db, sql_generator)\n",
    "\n",
    "eval_results = []\n",
    "for k in tqdm(range(5, max_k + 5, 5)):\n",
    "    correct = 0\n",
    "    incorrect = 0\n",
    "    for question, q_expected_name, q_results in zip(questions, expected_table_names, results):\n",
    "        # truncate the results to k - 1\n",
    "        k_results = set(q_results[:k])\n",
    "        if q_expected_name not in k_results:  # add it in\n",
    "            q_results = q_results[:k-1]\n",
    "            q_results.append(q_expected_name)\n",
    "            k_results = set(q_results)\n",
    "\n",
    "        table_info = sql_db.get_table_info_no_throw(k_results)\n",
    "        selected_table = retriever.get_best_table_name(question, table_info)\n",
    "        if selected_table == q_expected_name:\n",
    "            correct += 1\n",
    "        else:\n",
    "            incorrect += 1\n",
    "    accuracy = correct / len(questions)\n",
    "    eval_results.append((k, accuracy, correct, incorrect))\n"
   ]
  },
  {
   "cell_type": "code",
   "execution_count": 26,
   "id": "2fcc9459-05dd-440c-8efa-b6fd71663fcb",
   "metadata": {},
   "outputs": [
    {
     "data": {
      "text/plain": [
       "<matplotlib.collections.PathCollection at 0x16863d400>"
      ]
     },
     "execution_count": 26,
     "metadata": {},
     "output_type": "execute_result"
    },
    {
     "data": {
      "image/png": "[encoded data removed]",
      "text/plain": [
       "<Figure size 640x480 with 1 Axes>"
      ]
     },
     "metadata": {},
     "output_type": "display_data"
    }
   ],
   "source": [
    "import matplotlib.pyplot as plt\n",
    "import pandas as pd\n",
    "\n",
    "df = pd.DataFrame(eval_results, columns=['k', 'accuracy', 'correct', 'incorrect'])\n",
    "plt.title('Accuracy for values of k')\n",
    "plt.xlabel('k')\n",
    "plt.ylabel('accuracy')\n",
    "plt.scatter(x=df['k'], y=df['accuracy'])"
   ]
  }
 ],
 "metadata": {
  "kernelspec": {
   "display_name": "tomoro",
   "language": "python",
   "name": "tomoro"
  },
  "language_info": {
   "codemirror_mode": {
    "name": "ipython",
    "version": 3
   },
   "file_extension": ".py",
   "mimetype": "text/x-python",
   "name": "python",
   "nbconvert_exporter": "python",
   "pygments_lexer": "ipython3",
   "version": "3.13.2"
  }
 },
 "nbformat": 4,
 "nbformat_minor": 5
}
